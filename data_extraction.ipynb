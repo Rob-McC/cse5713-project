{
 "cells": [
  {
   "cell_type": "code",
   "execution_count": 1,
   "metadata": {},
   "outputs": [],
   "source": [
    "import numpy as np\n",
    "import os\n",
    "import pandas as pd\n",
    "import io\n",
    "import matplotlib as plt"
   ]
  },
  {
   "cell_type": "code",
   "execution_count": 2,
   "metadata": {},
   "outputs": [],
   "source": [
    "data = pd.read_csv('/Users/lisaadams/Downloads/expr_data_10446.csv')\n",
    "label = pd.read_csv('/Users/lisaadams/Downloads/expr_all_labels.csv')"
   ]
  },
  {
   "cell_type": "code",
   "execution_count": 3,
   "metadata": {},
   "outputs": [],
   "source": [
    "data = data.rename(columns={\"Unnamed: 0\": \"sample_IDs\"})"
   ]
  },
  {
   "cell_type": "code",
   "execution_count": 4,
   "metadata": {},
   "outputs": [],
   "source": [
    "joined = pd.merge(label, data, how='inner', left_on='sample_IDs', right_on='sample_IDs')"
   ]
  },
  {
   "cell_type": "code",
   "execution_count": 5,
   "metadata": {},
   "outputs": [
    {
     "data": {
      "text/html": [
       "<div>\n",
       "<style scoped>\n",
       "    .dataframe tbody tr th:only-of-type {\n",
       "        vertical-align: middle;\n",
       "    }\n",
       "\n",
       "    .dataframe tbody tr th {\n",
       "        vertical-align: top;\n",
       "    }\n",
       "\n",
       "    .dataframe thead th {\n",
       "        text-align: right;\n",
       "    }\n",
       "</style>\n",
       "<table border=\"1\" class=\"dataframe\">\n",
       "  <thead>\n",
       "    <tr style=\"text-align: right;\">\n",
       "      <th></th>\n",
       "      <th>Unnamed: 0</th>\n",
       "      <th>sample_IDs</th>\n",
       "      <th>labels</th>\n",
       "      <th>fromTissu</th>\n",
       "      <th>sample_orig_IDs</th>\n",
       "      <th>A1BG</th>\n",
       "      <th>A1CF</th>\n",
       "      <th>A2BP1</th>\n",
       "      <th>A2LD1</th>\n",
       "      <th>A2ML1</th>\n",
       "      <th>...</th>\n",
       "      <th>ZXDA</th>\n",
       "      <th>ZXDB</th>\n",
       "      <th>ZXDC</th>\n",
       "      <th>ZYG11A</th>\n",
       "      <th>ZYG11B</th>\n",
       "      <th>ZYX</th>\n",
       "      <th>ZZEF1</th>\n",
       "      <th>ZZZ3</th>\n",
       "      <th>psiTPTE22</th>\n",
       "      <th>tAKR</th>\n",
       "    </tr>\n",
       "  </thead>\n",
       "  <tbody>\n",
       "    <tr>\n",
       "      <td>0</td>\n",
       "      <td>0</td>\n",
       "      <td>TCGA-OR-A5J1-01</td>\n",
       "      <td>0</td>\n",
       "      <td>ACC</td>\n",
       "      <td>TCGA-OR-A5J1-01A-11R-A29S-07</td>\n",
       "      <td>16.3305</td>\n",
       "      <td>0.0000</td>\n",
       "      <td>17.2911</td>\n",
       "      <td>182.3919</td>\n",
       "      <td>54.7550</td>\n",
       "      <td>...</td>\n",
       "      <td>20.6532</td>\n",
       "      <td>351.5850</td>\n",
       "      <td>1050.9126</td>\n",
       "      <td>0.4803</td>\n",
       "      <td>648.4150</td>\n",
       "      <td>1841.0183</td>\n",
       "      <td>1157.5408</td>\n",
       "      <td>596.0615</td>\n",
       "      <td>715.6580</td>\n",
       "      <td>0.9606</td>\n",
       "    </tr>\n",
       "    <tr>\n",
       "      <td>1</td>\n",
       "      <td>1</td>\n",
       "      <td>TCGA-OR-A5J2-01</td>\n",
       "      <td>0</td>\n",
       "      <td>ACC</td>\n",
       "      <td>TCGA-OR-A5J2-01A-11R-A29S-07</td>\n",
       "      <td>9.5987</td>\n",
       "      <td>0.0000</td>\n",
       "      <td>5.6368</td>\n",
       "      <td>239.1584</td>\n",
       "      <td>0.0000</td>\n",
       "      <td>...</td>\n",
       "      <td>57.1735</td>\n",
       "      <td>279.0229</td>\n",
       "      <td>2979.8675</td>\n",
       "      <td>31.4052</td>\n",
       "      <td>1166.0176</td>\n",
       "      <td>3059.9909</td>\n",
       "      <td>1895.9865</td>\n",
       "      <td>801.6371</td>\n",
       "      <td>581.8009</td>\n",
       "      <td>0.4026</td>\n",
       "    </tr>\n",
       "    <tr>\n",
       "      <td>2</td>\n",
       "      <td>2</td>\n",
       "      <td>TCGA-OR-A5J3-01</td>\n",
       "      <td>0</td>\n",
       "      <td>ACC</td>\n",
       "      <td>TCGA-OR-A5J3-01A-11R-A29S-07</td>\n",
       "      <td>20.7377</td>\n",
       "      <td>0.5925</td>\n",
       "      <td>8.8876</td>\n",
       "      <td>138.8831</td>\n",
       "      <td>1.7775</td>\n",
       "      <td>...</td>\n",
       "      <td>39.6978</td>\n",
       "      <td>495.3340</td>\n",
       "      <td>914.8274</td>\n",
       "      <td>0.5925</td>\n",
       "      <td>806.3991</td>\n",
       "      <td>2655.6066</td>\n",
       "      <td>1482.4470</td>\n",
       "      <td>437.2686</td>\n",
       "      <td>126.7960</td>\n",
       "      <td>0.0000</td>\n",
       "    </tr>\n",
       "    <tr>\n",
       "      <td>3</td>\n",
       "      <td>3</td>\n",
       "      <td>TCGA-OR-A5J5-01</td>\n",
       "      <td>0</td>\n",
       "      <td>ACC</td>\n",
       "      <td>TCGA-OR-A5J5-01A-11R-A29S-07</td>\n",
       "      <td>1696.6615</td>\n",
       "      <td>1.5492</td>\n",
       "      <td>6.1967</td>\n",
       "      <td>63.9349</td>\n",
       "      <td>49.5740</td>\n",
       "      <td>...</td>\n",
       "      <td>17.8156</td>\n",
       "      <td>206.0418</td>\n",
       "      <td>890.7823</td>\n",
       "      <td>11.6189</td>\n",
       "      <td>553.8342</td>\n",
       "      <td>2367.9318</td>\n",
       "      <td>1140.2014</td>\n",
       "      <td>512.7808</td>\n",
       "      <td>855.1510</td>\n",
       "      <td>0.0000</td>\n",
       "    </tr>\n",
       "    <tr>\n",
       "      <td>4</td>\n",
       "      <td>4</td>\n",
       "      <td>TCGA-OR-A5J6-01</td>\n",
       "      <td>0</td>\n",
       "      <td>ACC</td>\n",
       "      <td>TCGA-OR-A5J6-01A-31R-A29S-07</td>\n",
       "      <td>600.1618</td>\n",
       "      <td>0.0000</td>\n",
       "      <td>4.4709</td>\n",
       "      <td>237.3520</td>\n",
       "      <td>1.1177</td>\n",
       "      <td>...</td>\n",
       "      <td>12.8537</td>\n",
       "      <td>117.9188</td>\n",
       "      <td>894.7296</td>\n",
       "      <td>7.8240</td>\n",
       "      <td>795.8119</td>\n",
       "      <td>708.0714</td>\n",
       "      <td>796.3708</td>\n",
       "      <td>475.5870</td>\n",
       "      <td>288.3701</td>\n",
       "      <td>0.0000</td>\n",
       "    </tr>\n",
       "  </tbody>\n",
       "</table>\n",
       "<p>5 rows × 20506 columns</p>\n",
       "</div>"
      ],
      "text/plain": [
       "   Unnamed: 0       sample_IDs  labels fromTissu  \\\n",
       "0           0  TCGA-OR-A5J1-01       0       ACC   \n",
       "1           1  TCGA-OR-A5J2-01       0       ACC   \n",
       "2           2  TCGA-OR-A5J3-01       0       ACC   \n",
       "3           3  TCGA-OR-A5J5-01       0       ACC   \n",
       "4           4  TCGA-OR-A5J6-01       0       ACC   \n",
       "\n",
       "                sample_orig_IDs       A1BG    A1CF    A2BP1     A2LD1  \\\n",
       "0  TCGA-OR-A5J1-01A-11R-A29S-07    16.3305  0.0000  17.2911  182.3919   \n",
       "1  TCGA-OR-A5J2-01A-11R-A29S-07     9.5987  0.0000   5.6368  239.1584   \n",
       "2  TCGA-OR-A5J3-01A-11R-A29S-07    20.7377  0.5925   8.8876  138.8831   \n",
       "3  TCGA-OR-A5J5-01A-11R-A29S-07  1696.6615  1.5492   6.1967   63.9349   \n",
       "4  TCGA-OR-A5J6-01A-31R-A29S-07   600.1618  0.0000   4.4709  237.3520   \n",
       "\n",
       "     A2ML1  ...     ZXDA      ZXDB       ZXDC   ZYG11A     ZYG11B        ZYX  \\\n",
       "0  54.7550  ...  20.6532  351.5850  1050.9126   0.4803   648.4150  1841.0183   \n",
       "1   0.0000  ...  57.1735  279.0229  2979.8675  31.4052  1166.0176  3059.9909   \n",
       "2   1.7775  ...  39.6978  495.3340   914.8274   0.5925   806.3991  2655.6066   \n",
       "3  49.5740  ...  17.8156  206.0418   890.7823  11.6189   553.8342  2367.9318   \n",
       "4   1.1177  ...  12.8537  117.9188   894.7296   7.8240   795.8119   708.0714   \n",
       "\n",
       "       ZZEF1      ZZZ3  psiTPTE22    tAKR  \n",
       "0  1157.5408  596.0615   715.6580  0.9606  \n",
       "1  1895.9865  801.6371   581.8009  0.4026  \n",
       "2  1482.4470  437.2686   126.7960  0.0000  \n",
       "3  1140.2014  512.7808   855.1510  0.0000  \n",
       "4   796.3708  475.5870   288.3701  0.0000  \n",
       "\n",
       "[5 rows x 20506 columns]"
      ]
     },
     "execution_count": 5,
     "metadata": {},
     "output_type": "execute_result"
    }
   ],
   "source": [
    "joined.head()"
   ]
  },
  {
   "cell_type": "code",
   "execution_count": 25,
   "metadata": {},
   "outputs": [],
   "source": [
    "lungC1 = joined['fromTissu'] == 'LUAD' \n",
    "lungC2 = joined['fromTissu'] == 'LUSC'\n",
    "lungC1 = joined[lungC1]\n",
    "lungC2 = joined[lungC2]\n",
    "lungC = pd.concat([lungC1, lungC2])\n",
    "lungC.to_csv(\"lungC.csv\", encoding='utf-8',index=False, header=True)"
   ]
  },
  {
   "cell_type": "code",
   "execution_count": 29,
   "metadata": {},
   "outputs": [
    {
     "data": {
      "text/plain": [
       "(110, 20506)"
      ]
     },
     "execution_count": 29,
     "metadata": {},
     "output_type": "execute_result"
    }
   ],
   "source": [
    "nocancer = lungC['labels'] == 33\n",
    "nocancer = lungC[nocancer]\n",
    "nocancer.shape"
   ]
  },
  {
   "cell_type": "code",
   "execution_count": 30,
   "metadata": {},
   "outputs": [
    {
     "data": {
      "text/plain": [
       "(1018, 20506)"
      ]
     },
     "execution_count": 30,
     "metadata": {},
     "output_type": "execute_result"
    }
   ],
   "source": [
    "cancer = lungC['labels'] != 33\n",
    "cancer = lungC[cancer]\n",
    "cancer.shape"
   ]
  },
  {
   "cell_type": "code",
   "execution_count": 31,
   "metadata": {},
   "outputs": [
    {
     "data": {
      "text/plain": [
       "(1128, 20506)"
      ]
     },
     "execution_count": 31,
     "metadata": {},
     "output_type": "execute_result"
    }
   ],
   "source": [
    "lungC.shape"
   ]
  },
  {
   "cell_type": "code",
   "execution_count": 32,
   "metadata": {},
   "outputs": [
    {
     "data": {
      "text/plain": [
       "(517, 20506)"
      ]
     },
     "execution_count": 32,
     "metadata": {},
     "output_type": "execute_result"
    }
   ],
   "source": [
    "cancer16 = lungC['labels'] == 16\n",
    "cancer16 = lungC[cancer16]\n",
    "cancer16.shape"
   ]
  },
  {
   "cell_type": "code",
   "execution_count": 33,
   "metadata": {},
   "outputs": [
    {
     "data": {
      "text/plain": [
       "(501, 20506)"
      ]
     },
     "execution_count": 33,
     "metadata": {},
     "output_type": "execute_result"
    }
   ],
   "source": [
    "cancer17 = lungC['labels'] == 17\n",
    "cancer17 = lungC[cancer17]\n",
    "cancer17.shape"
   ]
  }
 ],
 "metadata": {
  "kernelspec": {
   "display_name": "Python 3",
   "language": "python",
   "name": "python3"
  },
  "language_info": {
   "codemirror_mode": {
    "name": "ipython",
    "version": 3
   },
   "file_extension": ".py",
   "mimetype": "text/x-python",
   "name": "python",
   "nbconvert_exporter": "python",
   "pygments_lexer": "ipython3",
   "version": "3.7.4"
  }
 },
 "nbformat": 4,
 "nbformat_minor": 2
}
